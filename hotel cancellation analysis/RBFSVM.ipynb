{
  "cells": [
    {
      "cell_type": "markdown",
      "id": "58c8bb44-9412-47cd-ae75-987215ee566b",
      "metadata": {
        "id": "58c8bb44-9412-47cd-ae75-987215ee566b"
      },
      "source": [
        "Use RBF SVM for training and calculate its performance."
      ]
    },
    {
      "cell_type": "code",
      "execution_count": null,
      "id": "6d5dd5a0-0f7b-4756-826b-fa7e780ca140",
      "metadata": {
        "id": "6d5dd5a0-0f7b-4756-826b-fa7e780ca140",
        "tags": []
      },
      "outputs": [],
      "source": [
        "import pandas as pd\n",
        "from sklearn.model_selection import train_test_split, GridSearchCV\n",
        "from sklearn.svm import SVC\n",
        "from sklearn.metrics import accuracy_score, precision_score, recall_score, f1_score\n",
        "from sklearn.preprocessing import StandardScaler\n",
        "from sklearn.metrics import mean_absolute_error\n",
        "import matplotlib.pyplot as plt\n",
        "from sklearn.feature_selection import SelectFromModel\n",
        "from sklearn.feature_selection import SelectKBest, f_classif\n",
        "from sklearn.model_selection import GridSearchCV\n",
        "from sklearn.pipeline import Pipeline"
      ]
    },
    {
      "cell_type": "code",
      "execution_count": null,
      "id": "1b7e29af-dcb7-4bfb-98be-a181614fb59d",
      "metadata": {
        "id": "1b7e29af-dcb7-4bfb-98be-a181614fb59d",
        "tags": []
      },
      "outputs": [],
      "source": [
        "# load Data\n",
        "data = pd.read_csv('3clean_hotel_data.csv')"
      ]
    },
    {
      "cell_type": "code",
      "execution_count": null,
      "id": "a63aee2c-1e12-4461-b060-1fe888eedde2",
      "metadata": {
        "id": "a63aee2c-1e12-4461-b060-1fe888eedde2",
        "tags": []
      },
      "outputs": [],
      "source": [
        "# Divide features and target variables\n",
        "X = data.drop('is_canceled', axis=1)\n",
        "y = data['is_canceled']\n",
        "\n",
        "# Split the data into training and test sets (70% training, 30% test)\n",
        "x_train, x_test, y_train, y_test = train_test_split(X, y, test_size=0.3, random_state=0)\n",
        "\n",
        "# Standardize the data\n",
        "scaler = StandardScaler()\n",
        "x_train_scaled = scaler.fit_transform(x_train)\n",
        "x_test_scaled = scaler.transform(x_test)"
      ]
    },
    {
      "cell_type": "code",
      "execution_count": null,
      "id": "422b24d2-4d4e-4eb6-a026-e7e5ffdc951c",
      "metadata": {
        "colab": {
          "base_uri": "https://localhost:8080/",
          "height": 509
        },
        "id": "422b24d2-4d4e-4eb6-a026-e7e5ffdc951c",
        "outputId": "995de0a3-52dc-4caa-9329-051af7d33e90",
        "tags": []
      },
      "outputs": [
        {
          "name": "stdout",
          "output_type": "stream",
          "text": [
            "Fitting 5 folds for each of 4 candidates, totalling 20 fits\n",
            "[CV 1/5] END ......C=0.1, gamma=0.1, kernel=rbf;, score=0.842 total time= 7.4min\n",
            "[CV 2/5] END ......C=0.1, gamma=0.1, kernel=rbf;, score=0.838 total time= 7.4min\n",
            "[CV 3/5] END ......C=0.1, gamma=0.1, kernel=rbf;, score=0.845 total time= 6.9min\n",
            "[CV 4/5] END ......C=0.1, gamma=0.1, kernel=rbf;, score=0.843 total time= 6.2min\n",
            "[CV 5/5] END ......C=0.1, gamma=0.1, kernel=rbf;, score=0.842 total time= 6.8min\n",
            "[CV 1/5] END .....C=0.1, gamma=0.01, kernel=rbf;, score=0.784 total time= 4.6min\n",
            "[CV 2/5] END .....C=0.1, gamma=0.01, kernel=rbf;, score=0.782 total time= 5.6min\n",
            "[CV 3/5] END .....C=0.1, gamma=0.01, kernel=rbf;, score=0.783 total time= 4.7min\n",
            "[CV 4/5] END .....C=0.1, gamma=0.01, kernel=rbf;, score=0.784 total time= 4.4min\n",
            "[CV 5/5] END .....C=0.1, gamma=0.01, kernel=rbf;, score=0.784 total time= 4.6min\n",
            "[CV 1/5] END ........C=1, gamma=0.1, kernel=rbf;, score=0.907 total time= 9.2min\n",
            "[CV 2/5] END ........C=1, gamma=0.1, kernel=rbf;, score=0.903 total time=11.0min\n",
            "[CV 3/5] END ........C=1, gamma=0.1, kernel=rbf;, score=0.909 total time= 8.8min\n",
            "[CV 4/5] END ........C=1, gamma=0.1, kernel=rbf;, score=0.908 total time=10.6min\n",
            "[CV 5/5] END ........C=1, gamma=0.1, kernel=rbf;, score=0.907 total time= 8.8min\n",
            "[CV 1/5] END .......C=1, gamma=0.01, kernel=rbf;, score=0.825 total time= 4.3min\n",
            "[CV 2/5] END .......C=1, gamma=0.01, kernel=rbf;, score=0.819 total time= 4.3min\n",
            "[CV 3/5] END .......C=1, gamma=0.01, kernel=rbf;, score=0.826 total time= 4.3min\n",
            "[CV 4/5] END .......C=1, gamma=0.01, kernel=rbf;, score=0.825 total time= 4.3min\n",
            "[CV 5/5] END .......C=1, gamma=0.01, kernel=rbf;, score=0.824 total time= 4.3min\n",
            "Accuracy: 0.9100985565513583\n",
            "Precision: 0.9685500091424392\n",
            "Recall: 0.7864884929472903\n",
            "F1 Score: 0.8680760406424124\n"
          ]
        },
        {
          "data": {
            "text/html": [
              "<style>#sk-container-id-1 {color: black;background-color: white;}#sk-container-id-1 pre{padding: 0;}#sk-container-id-1 div.sk-toggleable {background-color: white;}#sk-container-id-1 label.sk-toggleable__label {cursor: pointer;display: block;width: 100%;margin-bottom: 0;padding: 0.3em;box-sizing: border-box;text-align: center;}#sk-container-id-1 label.sk-toggleable__label-arrow:before {content: \"▸\";float: left;margin-right: 0.25em;color: #696969;}#sk-container-id-1 label.sk-toggleable__label-arrow:hover:before {color: black;}#sk-container-id-1 div.sk-estimator:hover label.sk-toggleable__label-arrow:before {color: black;}#sk-container-id-1 div.sk-toggleable__content {max-height: 0;max-width: 0;overflow: hidden;text-align: left;background-color: #f0f8ff;}#sk-container-id-1 div.sk-toggleable__content pre {margin: 0.2em;color: black;border-radius: 0.25em;background-color: #f0f8ff;}#sk-container-id-1 input.sk-toggleable__control:checked~div.sk-toggleable__content {max-height: 200px;max-width: 100%;overflow: auto;}#sk-container-id-1 input.sk-toggleable__control:checked~label.sk-toggleable__label-arrow:before {content: \"▾\";}#sk-container-id-1 div.sk-estimator input.sk-toggleable__control:checked~label.sk-toggleable__label {background-color: #d4ebff;}#sk-container-id-1 div.sk-label input.sk-toggleable__control:checked~label.sk-toggleable__label {background-color: #d4ebff;}#sk-container-id-1 input.sk-hidden--visually {border: 0;clip: rect(1px 1px 1px 1px);clip: rect(1px, 1px, 1px, 1px);height: 1px;margin: -1px;overflow: hidden;padding: 0;position: absolute;width: 1px;}#sk-container-id-1 div.sk-estimator {font-family: monospace;background-color: #f0f8ff;border: 1px dotted black;border-radius: 0.25em;box-sizing: border-box;margin-bottom: 0.5em;}#sk-container-id-1 div.sk-estimator:hover {background-color: #d4ebff;}#sk-container-id-1 div.sk-parallel-item::after {content: \"\";width: 100%;border-bottom: 1px solid gray;flex-grow: 1;}#sk-container-id-1 div.sk-label:hover label.sk-toggleable__label {background-color: #d4ebff;}#sk-container-id-1 div.sk-serial::before {content: \"\";position: absolute;border-left: 1px solid gray;box-sizing: border-box;top: 0;bottom: 0;left: 50%;z-index: 0;}#sk-container-id-1 div.sk-serial {display: flex;flex-direction: column;align-items: center;background-color: white;padding-right: 0.2em;padding-left: 0.2em;position: relative;}#sk-container-id-1 div.sk-item {position: relative;z-index: 1;}#sk-container-id-1 div.sk-parallel {display: flex;align-items: stretch;justify-content: center;background-color: white;position: relative;}#sk-container-id-1 div.sk-item::before, #sk-container-id-1 div.sk-parallel-item::before {content: \"\";position: absolute;border-left: 1px solid gray;box-sizing: border-box;top: 0;bottom: 0;left: 50%;z-index: -1;}#sk-container-id-1 div.sk-parallel-item {display: flex;flex-direction: column;z-index: 1;position: relative;background-color: white;}#sk-container-id-1 div.sk-parallel-item:first-child::after {align-self: flex-end;width: 50%;}#sk-container-id-1 div.sk-parallel-item:last-child::after {align-self: flex-start;width: 50%;}#sk-container-id-1 div.sk-parallel-item:only-child::after {width: 0;}#sk-container-id-1 div.sk-dashed-wrapped {border: 1px dashed gray;margin: 0 0.4em 0.5em 0.4em;box-sizing: border-box;padding-bottom: 0.4em;background-color: white;}#sk-container-id-1 div.sk-label label {font-family: monospace;font-weight: bold;display: inline-block;line-height: 1.2em;}#sk-container-id-1 div.sk-label-container {text-align: center;}#sk-container-id-1 div.sk-container {/* jupyter's `normalize.less` sets `[hidden] { display: none; }` but bootstrap.min.css set `[hidden] { display: none !important; }` so we also need the `!important` here to be able to override the default hidden behavior on the sphinx rendered scikit-learn.org. See: https://github.com/scikit-learn/scikit-learn/issues/21755 */display: inline-block !important;position: relative;}#sk-container-id-1 div.sk-text-repr-fallback {display: none;}</style><div id=\"sk-container-id-1\" class=\"sk-top-container\"><div class=\"sk-text-repr-fallback\"><pre>SVC(C=1, gamma=0.1)</pre><b>In a Jupyter environment, please rerun this cell to show the HTML representation or trust the notebook. <br />On GitHub, the HTML representation is unable to render, please try loading this page with nbviewer.org.</b></div><div class=\"sk-container\" hidden><div class=\"sk-item\"><div class=\"sk-estimator sk-toggleable\"><input class=\"sk-toggleable__control sk-hidden--visually\" id=\"sk-estimator-id-1\" type=\"checkbox\" checked><label for=\"sk-estimator-id-1\" class=\"sk-toggleable__label sk-toggleable__label-arrow\">SVC</label><div class=\"sk-toggleable__content\"><pre>SVC(C=1, gamma=0.1)</pre></div></div></div></div></div>"
            ],
            "text/plain": [
              "SVC(C=1, gamma=0.1)"
            ]
          },
          "execution_count": 4,
          "metadata": {},
          "output_type": "execute_result"
        }
      ],
      "source": [
        "# Define the candidate list of C values\n",
        "param_grid = {\n",
        "    'C': [0.1, 1],\n",
        "    'gamma': [0.1, 0.01],\n",
        "    'kernel': ['rbf']\n",
        "}\n",
        "\n",
        "# Grid search\n",
        "grid = GridSearchCV(SVC(), param_grid, refit=True, verbose=3)\n",
        "grid.fit(x_train_scaled, y_train)\n",
        "\n",
        "# Use the best parameters to predict on the test set\n",
        "best_model = grid.best_estimator_\n",
        "y_pred = best_model.predict(x_test_scaled)\n",
        "\n",
        "# calculate its performance\n",
        "accuracy = accuracy_score(y_test, y_pred)\n",
        "precision = precision_score(y_test, y_pred)\n",
        "recall = recall_score(y_test, y_pred)\n",
        "f1 = f1_score(y_test, y_pred)\n",
        "\n",
        "print(f'Accuracy: {accuracy}')\n",
        "print(f'Precision: {precision}')\n",
        "print(f'Recall: {recall}')\n",
        "print(f'F1 Score: {f1}')\n",
        "best_model"
      ]
    }
  ],
  "metadata": {
    "colab": {
      "provenance": []
    },
    "kernelspec": {
      "display_name": "Python 3 (ipykernel)",
      "language": "python",
      "name": "python3"
    },
    "language_info": {
      "codemirror_mode": {
        "name": "ipython",
        "version": 3
      },
      "file_extension": ".py",
      "mimetype": "text/x-python",
      "name": "python",
      "nbconvert_exporter": "python",
      "pygments_lexer": "ipython3",
      "version": "3.11.4"
    }
  },
  "nbformat": 4,
  "nbformat_minor": 5
}